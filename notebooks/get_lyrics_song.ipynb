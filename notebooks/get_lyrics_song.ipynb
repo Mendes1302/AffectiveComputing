{
 "cells": [
  {
   "cell_type": "code",
   "execution_count": 5,
   "metadata": {},
   "outputs": [],
   "source": [
    "import requests"
   ]
  },
  {
   "attachments": {},
   "cell_type": "markdown",
   "metadata": {},
   "source": [
    "# STEP: LYRICS (vagalume)"
   ]
  },
  {
   "cell_type": "code",
   "execution_count": null,
   "metadata": {},
   "outputs": [],
   "source": []
  },
  {
   "cell_type": "code",
   "execution_count": 3,
   "metadata": {},
   "outputs": [
    {
     "name": "stdout",
     "output_type": "stream",
     "text": [
      "art_name Skank\n",
      "art_id 3ade68b3g8e86eda3\n",
      "music_name Dois Rios\n",
      "music_id 3ade68b6ge0b8fda3\n",
      "music_href https://www.vagalume.com.br/skank/dois-rios.html\n"
     ]
    },
    {
     "data": {
      "text/plain": [
       "['O céu está no chão',\n",
       " 'O céu não cai do alto',\n",
       " 'É o claro, é a escuridão',\n",
       " 'O céu que toca o chão',\n",
       " 'E o céu que vai no alto',\n",
       " 'Dois lados deram as mãos',\n",
       " 'Como eu fiz também',\n",
       " 'Só pra poder conhecer',\n",
       " 'O que a voz da vida vem dizer',\n",
       " 'Que os braços sentem',\n",
       " 'E os olhos veem',\n",
       " 'Que os lábios sejam',\n",
       " 'Dois rios inteiros',\n",
       " 'Sem direção',\n",
       " 'O sol é o pé e a mão',\n",
       " 'O sol é a mãe e o pai',\n",
       " 'Dissolve a escuridão',\n",
       " 'O sol se põe se vai',\n",
       " 'E após se pôr',\n",
       " 'O sol renasce no Japão',\n",
       " 'Eu vi também',\n",
       " 'Só pra poder entender',\n",
       " 'Na voz da vida ouvi dizer',\n",
       " 'Que os braços sentem',\n",
       " 'E os olhos veem',\n",
       " 'E os lábios beijam',\n",
       " 'Dois rios inteiros',\n",
       " 'Sem direção',\n",
       " 'E o meu lugar é esse',\n",
       " 'Ao lado seu, no corpo inteiro',\n",
       " 'Dou o meu lugar pois o seu lugar',\n",
       " 'É o meu amor primeiro',\n",
       " 'O dia e a noite as quatro estações',\n",
       " 'O céu está no chão',\n",
       " 'O céu não cai do alto',\n",
       " 'É o claro, é a escuridão',\n",
       " 'O céu que toca o chão',\n",
       " 'E o céu que vai no alto',\n",
       " 'Dois lados deram as mãos',\n",
       " 'Como eu fiz também',\n",
       " 'Só pra poder conhecer',\n",
       " 'O que a voz da vida vem dizer',\n",
       " 'Que os braços sentem',\n",
       " 'E os olhos veem',\n",
       " 'Que os lábios sejam',\n",
       " 'Dois rios inteiros',\n",
       " 'Sem direção',\n",
       " 'E o meu lugar é esse',\n",
       " 'Ao lado seu, no corpo inteiro',\n",
       " 'Dou o meu lugar pois o seu lugar',\n",
       " 'É o meu amor primeiro',\n",
       " 'O dia e a noite as quatro estações',\n",
       " 'Que os braços sentem',\n",
       " 'E os olhos veem',\n",
       " 'Que os lábios sejam',\n",
       " 'Dois rios inteiros',\n",
       " 'Sem direção']"
      ]
     },
     "execution_count": 3,
     "metadata": {},
     "output_type": "execute_result"
    }
   ],
   "source": [
    "import requests\n",
    "API_URL = 'https://api.vagalume.com.br'\n",
    "API_LYRIC_SEARCH_URL = API_URL + '/search.php'\n",
    "\n",
    "\n",
    "artist_name = 'Skank'\n",
    "song_name = 'Dois Rios'\n",
    "\n",
    "\n",
    "\n",
    "params = {\n",
    "       'art': artist_name,\n",
    "       'mus': song_name\n",
    "   }\n",
    "response = requests.get(API_LYRIC_SEARCH_URL, params=params)\n",
    "results = response.json()\n",
    "\n",
    "\n",
    "txt = results['mus'][0]\n",
    "art_name, art_id = results['art']['name'], results['art']['id']\n",
    "music_name, music_id, music_href = txt['name'], txt['id'], txt['url']\n",
    "lyrics = txt['text']\n",
    "list_lyrics = [i.strip() for i in lyrics.split('\\n') if len(i) > 0]\n",
    "\n",
    "print(\"art_name\", art_name)\n",
    "print(\"art_id\", art_id)\n",
    "print(\"music_name\", music_name)\n",
    "print(\"music_id\", music_id)\n",
    "print(\"music_href\", music_href)\n",
    "list_lyrics\n"
   ]
  },
  {
   "cell_type": "code",
   "execution_count": null,
   "metadata": {},
   "outputs": [],
   "source": [
    "not_find = ['https://api.vagalume.com.br/search.php?art=Chitaozinho+e+Xororo&mus=P%C3%A1ginas+de+Amigos',\n",
    "    'https://api.vagalume.com.br/search.php?art=Marcelo+D2&mus=Desabafo+%2F+Deixa+Eu+Dizer']"
   ]
  },
  {
   "cell_type": "code",
   "execution_count": 11,
   "metadata": {},
   "outputs": [],
   "source": [
    "urls = [    \n",
    "    'https://api.vagalume.com.br/search.php?art=Roupa+Nova&mus=Whisky+a+Go-Go',\n",
    "    'https://api.vagalume.com.br/search.php?art=Luiz+Gonzaga&mus=Asa+Branca',\n",
    "    'https://api.vagalume.com.br/search.php?art=Claudinho+%26+Buchecha&mus=Quero+Te+Encontrar'\n",
    "]\n"
   ]
  },
  {
   "cell_type": "code",
   "execution_count": 7,
   "metadata": {},
   "outputs": [],
   "source": [
    "import requests"
   ]
  },
  {
   "cell_type": "code",
   "execution_count": 14,
   "metadata": {},
   "outputs": [
    {
     "name": "stdout",
     "output_type": "stream",
     "text": [
      "https://api.vagalume.com.br/search.php?art=Roupa+Nova&mus=Whisky+a+Go-Go\n",
      "{'type': 'exact', 'art': {'id': '3ade68b6g1bf9eda3', 'name': 'Roupa Nova', 'url': 'https://www.vagalume.com.br/roupa-nova/'}, 'mus': [{'id': '3ade68b6gab76fda3', 'name': 'Whisky a Go-Go', 'url': 'https://www.vagalume.com.br/roupa-nova/whisky-a-go-go.html', 'lang': 1, 'text': 'Foi numa festa, gelo e cuba-libre\\nE, na vitrola, \"Whisky a Go-Go\"\\nÀ meia luz, o som do Johnny Rivers\\nAquele tempo que você sonhou\\n\\nSenti na pele a tua energia\\nQuando peguei de leve a tua mão\\nA noite inteira passa num segundo\\nO tempo voa mais do que a canção\\n\\nQuase no fim da festa\\nNum beijo, então, você se rendeu\\nNa minha fantasia\\nO mundo era você e eu\\n\\nEu perguntava \"Do You Wanna Dance\"?\\nE te abraçava \"Do You Wanna Dance\"?\\nLembrar você\\nUm sonho a mais não faz mal\\n\\nEu perguntava \"Do You Wanna Dance\"?\\nE te abraçava \"Do You Wanna Dance\"?\\nLembrar você\\nUm sonho a mais não faz mal\\n\\nFoi numa festa, gelo e cuba-libre\\nE, na vitrola, \"Whisky a Go-Go\"\\nÀ meia luz, o som do Johnny Rivers\\nAquele tempo que você sonhou\\n\\nSenti na pele a tua energia\\nQuando peguei de leve a tua mão\\nA noite inteira passa num segundo\\nO tempo voa mais do que a canção\\n\\nQuase no fim da festa\\nNum beijo, então, você se rendeu\\nNa minha fantasia\\nO mundo era você e eu\\n\\nEu perguntava \"Do You Wanna Dance\"?\\nE te abraçava \"Do You Wanna Dance\"?\\nLembrar você\\nUm sonho a mais não faz mal\\n\\nEu perguntava \"Do You Wanna Dance\"?\\nE te abraçava \"Do You Wanna Dance\"?\\nLembrar você\\nUm sonho a mais não faz mal\\n\\nHey, hey (Hey, hey)\\nHey, hey, hey (Hey, hey, hey)\\nHey (Hey)\\nHo (Ho)\\nHey (Hey)\\nHo (Ho)\\nHey (Hey)\\nHo (Ho)\\n\\nEu perguntava \"Do You Wanna Dance\"?\\nE te abraçava \"Do You Wanna Dance\"?\\nLembrar você\\nUm sonho a mais não faz mal\\n\\nEu perguntava \"Do You Wanna Dance\"?\\nE te abraçava \"Do You Wanna Dance\"?\\nLembrar você\\nUm sonho a mais não faz mal\\n\\nLembrar você\\nUm sonho a mais não faz mal\\nLembrar você\\nUm sonho a mais não faz mal'}], 'badwords': False}\n",
      "{'artist_full_name': 'Roupa Nova', 'vagalume_artist_id': '3ade68b6g1bf9eda3'}\n",
      "{'song_name': 'Whisky a Go-Go', 'vagalume_song_id': '3ade68b6gab76fda3', 'vagalume_song_url': 'https://www.vagalume.com.br/roupa-nova/whisky-a-go-go.html', 'lyrics': 'Foi numa festa, gelo e cuba-libre|E, na vitrola, \"Whisky a Go-Go\"|À meia luz, o som do Johnny Rivers|Aquele tempo que você sonhou|Senti na pele a tua energia|Quando peguei de leve a tua mão|A noite inteira passa num segundo|O tempo voa mais do que a canção|Quase no fim da festa|Num beijo, então, você se rendeu|Na minha fantasia|O mundo era você e eu|Eu perguntava \"Do You Wanna Dance\"?|E te abraçava \"Do You Wanna Dance\"?|Lembrar você|Um sonho a mais não faz mal|Eu perguntava \"Do You Wanna Dance\"?|E te abraçava \"Do You Wanna Dance\"?|Lembrar você|Um sonho a mais não faz mal|Foi numa festa, gelo e cuba-libre|E, na vitrola, \"Whisky a Go-Go\"|À meia luz, o som do Johnny Rivers|Aquele tempo que você sonhou|Senti na pele a tua energia|Quando peguei de leve a tua mão|A noite inteira passa num segundo|O tempo voa mais do que a canção|Quase no fim da festa|Num beijo, então, você se rendeu|Na minha fantasia|O mundo era você e eu|Eu perguntava \"Do You Wanna Dance\"?|E te abraçava \"Do You Wanna Dance\"?|Lembrar você|Um sonho a mais não faz mal|Eu perguntava \"Do You Wanna Dance\"?|E te abraçava \"Do You Wanna Dance\"?|Lembrar você|Um sonho a mais não faz mal|Hey, hey (Hey, hey)|Hey, hey, hey (Hey, hey, hey)|Hey (Hey)|Ho (Ho)|Hey (Hey)|Ho (Ho)|Hey (Hey)|Ho (Ho)|Eu perguntava \"Do You Wanna Dance\"?|E te abraçava \"Do You Wanna Dance\"?|Lembrar você|Um sonho a mais não faz mal|Eu perguntava \"Do You Wanna Dance\"?|E te abraçava \"Do You Wanna Dance\"?|Lembrar você|Um sonho a mais não faz mal|Lembrar você|Um sonho a mais não faz mal|Lembrar você|Um sonho a mais não faz mal'}\n",
      "https://api.vagalume.com.br/search.php?art=Luiz+Gonzaga&mus=Asa+Branca\n",
      "{'type': 'exact', 'art': {'id': '3ade68b5g5c48eda3', 'name': 'Luiz Gonzaga', 'url': 'https://www.vagalume.com.br/luiz-gonzaga/'}, 'mus': [{'id': '3ade68b6g5542fda3', 'name': 'Asa Branca', 'url': 'https://www.vagalume.com.br/luiz-gonzaga/asa-branca.html', 'lang': 1, 'text': \"Quando olhei a terra ardendo\\nQual fogueira de São João\\nEu preguntei a Deus do céu, ai\\nPor que tamanha judiação\\n\\nEu perguntei a Deus do céu, ai\\nPor que tamanha judiação\\n\\nQue braseiro, que fornalha\\nNem um pé de plantação\\nPor falta d'água perdi meu gado\\nMorreu de sede meu alazão\\n\\nPor falta d'água perdi meu gado\\nMorreu de sede meu alazão\\n\\nAté mesmo a asa branca\\nBateu asas do sertão\\nEntonce eu disse, adeus Rosinha\\nGuarda contigo meu coração\\n\\nEntonce eu disse, adeus Rosinha\\nGuarda contigo meu coração\\n\\nHoje longe, muitas léguas\\nNuma triste solidão\\nEspero a chuva cair de novo\\nPra mim voltar pro meu sertão\\n\\nEspero a chuva cair de novo\\nPra mim voltar pro meu sertão\\n\\nQuando o verde dos teus olhos\\nSe espalhar na plantação\\nEu te asseguro não chore não, viu\\nQue eu voltarei, viu\\nMeu coração\\n\\nEu te asseguro não chore não, viu\\nQue eu voltarei, viu\\nMeu coração\"}], 'badwords': False}\n",
      "{'artist_full_name': 'Luiz Gonzaga', 'vagalume_artist_id': '3ade68b5g5c48eda3'}\n",
      "{'song_name': 'Asa Branca', 'vagalume_song_id': '3ade68b6g5542fda3', 'vagalume_song_url': 'https://www.vagalume.com.br/luiz-gonzaga/asa-branca.html', 'lyrics': \"Quando olhei a terra ardendo|Qual fogueira de São João|Eu preguntei a Deus do céu, ai|Por que tamanha judiação|Eu perguntei a Deus do céu, ai|Por que tamanha judiação|Que braseiro, que fornalha|Nem um pé de plantação|Por falta d'água perdi meu gado|Morreu de sede meu alazão|Por falta d'água perdi meu gado|Morreu de sede meu alazão|Até mesmo a asa branca|Bateu asas do sertão|Entonce eu disse, adeus Rosinha|Guarda contigo meu coração|Entonce eu disse, adeus Rosinha|Guarda contigo meu coração|Hoje longe, muitas léguas|Numa triste solidão|Espero a chuva cair de novo|Pra mim voltar pro meu sertão|Espero a chuva cair de novo|Pra mim voltar pro meu sertão|Quando o verde dos teus olhos|Se espalhar na plantação|Eu te asseguro não chore não, viu|Que eu voltarei, viu|Meu coração|Eu te asseguro não chore não, viu|Que eu voltarei, viu|Meu coração\"}\n",
      "https://api.vagalume.com.br/search.php?art=Claudinho+%26+Buchecha&mus=Quero+Te+Encontrar\n",
      "{'type': 'exact', 'art': {'id': '3ade68b6g3b46fda3', 'name': 'Claudinho & Buchecha', 'url': 'https://www.vagalume.com.br/claudinho-buchecha/'}, 'mus': [{'id': '3ade68b7gc6d68ea3', 'name': 'Quero Te Encontrar', 'url': 'https://www.vagalume.com.br/claudinho-buchecha/quero-te-encontrar.html', 'lang': 1, 'text': 'Quando você vem pra passar o fim de semana \\nEu finjo estar tudo bem mesmo duro ou com grana  \\nÉ que... \\nVocê ignora tudo que eu faço\\nDepois vai embora \\ndesatando os nossos laços\\n\\nQuero te encontrar\\nQuero te amar\\nvocê pra mim é tudo\\nminha terra, meu céu, meu mar\\nquero te encontrar\\nquero te amar\\nvocê pra mim é tudo \\nminha terra, meu céu, meu mar\\n\\nQuando você vem pra passar o fim de semana \\nEu finjo estar tudo bem mesmo duro ou com grana  \\nÉ que... \\nVocê ignora tudo que eu faço\\nDepois vai embora \\ndesatando os nossos laços\\n\\nQuero te encontrar\\nQuero te amar\\nvocê pra mim é tudo\\nminha terra, meu céu, meu mar\\nquero te encontrar\\nquero te amar\\nvocê pra mim é tudo \\nminha terra, meu céu, meu mar\\n\\nÉ muita ousadia ter que percorrer \\nO país inteiro pra achar você\\nMas tudo que eu faço tem um bom motivo\\nLinda eu te amo vem ficar comigo\\nTô alucinado pelo seu olhar \\nVou aonde for até encontrar\\nEu te amo demais você é minha paz \\nFaz amor gostoso de novo comigo faz\\nFaaaaaaz\\n\\nQuero te encontrar\\nQuero te amar\\nvocê pra mim é tudo\\nminha terra,meu céu,meu mar\\n\\nquero te encontrar\\nquero te amar\\nvocê pra mim é tudo \\nminha terra, meu céu, meu mar\\n\\nQuero te encontrar\\nQuero te amar\\nvocê pra mim é tudo\\nminha terra,meu céu,meu mar\\n\\nquero te encontrar\\nquero te amar\\nvocê pra mim é tudo \\nminha terra, meu céu, meu mar\\n\\nQuero te encontrar\\nQuero te amar\\nvocê pra mim é tudo\\nminha terra,meu céu,meu mar\\n\\nquero te encontrar\\nquero te amar\\nvocê pra mim é tudo \\nminha terra, meu céu, meu mar\\n\\nquero te te encontrar\\nquero te te encontrar\\nquero te te encontrar\\nquero te encontrar'}], 'badwords': False}\n",
      "{'artist_full_name': 'Claudinho & Buchecha', 'vagalume_artist_id': '3ade68b6g3b46fda3'}\n",
      "{'song_name': 'Quero Te Encontrar', 'vagalume_song_id': '3ade68b7gc6d68ea3', 'vagalume_song_url': 'https://www.vagalume.com.br/claudinho-buchecha/quero-te-encontrar.html', 'lyrics': 'Quando você vem pra passar o fim de semana|Eu finjo estar tudo bem mesmo duro ou com grana|É que...|Você ignora tudo que eu faço|Depois vai embora|desatando os nossos laços|Quero te encontrar|Quero te amar|você pra mim é tudo|minha terra, meu céu, meu mar|quero te encontrar|quero te amar|você pra mim é tudo|minha terra, meu céu, meu mar|Quando você vem pra passar o fim de semana|Eu finjo estar tudo bem mesmo duro ou com grana|É que...|Você ignora tudo que eu faço|Depois vai embora|desatando os nossos laços|Quero te encontrar|Quero te amar|você pra mim é tudo|minha terra, meu céu, meu mar|quero te encontrar|quero te amar|você pra mim é tudo|minha terra, meu céu, meu mar|É muita ousadia ter que percorrer|O país inteiro pra achar você|Mas tudo que eu faço tem um bom motivo|Linda eu te amo vem ficar comigo|Tô alucinado pelo seu olhar|Vou aonde for até encontrar|Eu te amo demais você é minha paz|Faz amor gostoso de novo comigo faz|Faaaaaaz|Quero te encontrar|Quero te amar|você pra mim é tudo|minha terra,meu céu,meu mar|quero te encontrar|quero te amar|você pra mim é tudo|minha terra, meu céu, meu mar|Quero te encontrar|Quero te amar|você pra mim é tudo|minha terra,meu céu,meu mar|quero te encontrar|quero te amar|você pra mim é tudo|minha terra, meu céu, meu mar|Quero te encontrar|Quero te amar|você pra mim é tudo|minha terra,meu céu,meu mar|quero te encontrar|quero te amar|você pra mim é tudo|minha terra, meu céu, meu mar|quero te te encontrar|quero te te encontrar|quero te te encontrar|quero te encontrar'}\n"
     ]
    }
   ],
   "source": [
    "for url in urls:\n",
    "    print(url)\n",
    "    response = requests.get(url)\n",
    "    results = response.json()\n",
    "    print(results)\n",
    "    if results['type'] == \"song_notfound\":\n",
    "        print(\"NOT FOUND!!!\")\n",
    "        continue\n",
    "    txt = results['mus'][0]\n",
    "    music_name, music_id, music_href = txt['name'], txt['id'], txt['url']\n",
    "    lyrics = txt['text']\n",
    "    art_name, art_id = results['art']['name'], results['art']['id']\n",
    "    list_lyrics = [i.strip() for i in lyrics.split('\\n') if len(i) > 0]\n",
    "    dict_song = {\"song_name\": music_name,\n",
    "                    \"vagalume_song_id\": music_id,\n",
    "                    \"vagalume_song_url\": music_href,\n",
    "                    \"lyrics\": \"|\".join(list_lyrics)}\n",
    "    dict_artist = {\"artist_full_name\": art_name,\n",
    "                    \"vagalume_artist_id\": art_id}\n",
    "    print(dict_artist)\n",
    "    print(dict_song)"
   ]
  },
  {
   "cell_type": "code",
   "execution_count": 13,
   "metadata": {},
   "outputs": [
    {
     "data": {
      "text/plain": [
       "{'song_name': 'Quero Te Encontrar',\n",
       " 'vagalume_song_id': '3ade68b7gc6d68ea3',\n",
       " 'vagalume_song_url': 'https://www.vagalume.com.br/claudinho-buchecha/quero-te-encontrar.html',\n",
       " 'lyrics': 'Quando você vem pra passar o fim de semana|Eu finjo estar tudo bem mesmo duro ou com grana|É que...|Você ignora tudo que eu faço|Depois vai embora|desatando os nossos laços|Quero te encontrar|Quero te amar|você pra mim é tudo|minha terra, meu céu, meu mar|quero te encontrar|quero te amar|você pra mim é tudo|minha terra, meu céu, meu mar|Quando você vem pra passar o fim de semana|Eu finjo estar tudo bem mesmo duro ou com grana|É que...|Você ignora tudo que eu faço|Depois vai embora|desatando os nossos laços|Quero te encontrar|Quero te amar|você pra mim é tudo|minha terra, meu céu, meu mar|quero te encontrar|quero te amar|você pra mim é tudo|minha terra, meu céu, meu mar|É muita ousadia ter que percorrer|O país inteiro pra achar você|Mas tudo que eu faço tem um bom motivo|Linda eu te amo vem ficar comigo|Tô alucinado pelo seu olhar|Vou aonde for até encontrar|Eu te amo demais você é minha paz|Faz amor gostoso de novo comigo faz|Faaaaaaz|Quero te encontrar|Quero te amar|você pra mim é tudo|minha terra,meu céu,meu mar|quero te encontrar|quero te amar|você pra mim é tudo|minha terra, meu céu, meu mar|Quero te encontrar|Quero te amar|você pra mim é tudo|minha terra,meu céu,meu mar|quero te encontrar|quero te amar|você pra mim é tudo|minha terra, meu céu, meu mar|Quero te encontrar|Quero te amar|você pra mim é tudo|minha terra,meu céu,meu mar|quero te encontrar|quero te amar|você pra mim é tudo|minha terra, meu céu, meu mar|quero te te encontrar|quero te te encontrar|quero te te encontrar|quero te encontrar'}"
      ]
     },
     "execution_count": 13,
     "metadata": {},
     "output_type": "execute_result"
    }
   ],
   "source": [
    "dict_song"
   ]
  },
  {
   "cell_type": "code",
   "execution_count": 3,
   "metadata": {},
   "outputs": [],
   "source": [
    "teste = [78, 'Claudinho & Buchecha', '3ade68b6g3b46fda3']\n",
    "teste.insert(1, 2)"
   ]
  },
  {
   "cell_type": "code",
   "execution_count": 4,
   "metadata": {},
   "outputs": [
    {
     "data": {
      "text/plain": [
       "[78, 2, 'Claudinho & Buchecha', '3ade68b6g3b46fda3']"
      ]
     },
     "execution_count": 4,
     "metadata": {},
     "output_type": "execute_result"
    }
   ],
   "source": [
    "teste"
   ]
  },
  {
   "cell_type": "code",
   "execution_count": null,
   "metadata": {},
   "outputs": [],
   "source": [
    "import sqlite3 \n",
    " sqlite3.connect(database)"
   ]
  },
  {
   "cell_type": "code",
   "execution_count": 1,
   "metadata": {},
   "outputs": [
    {
     "data": {
      "text/plain": [
       "'Primeira linha\\nSegunda linha\\nTerceira linha'"
      ]
     },
     "execution_count": 1,
     "metadata": {},
     "output_type": "execute_result"
    }
   ],
   "source": [
    "lyrics_lines = [\"Primeira linha\", \"Segunda linha\", \"Terceira linha\"]\n",
    "\"\\n\".join(lyrics_lines)"
   ]
  },
  {
   "cell_type": "code",
   "execution_count": 26,
   "metadata": {},
   "outputs": [
    {
     "data": {
      "text/plain": [
       "{'type': 'exact',\n",
       " 'art': {'id': '3ade68b5g6a27eda3',\n",
       "  'name': 'Jota Quest',\n",
       "  'url': 'https://www.vagalume.com.br/jota-quest/'},\n",
       " 'mus': [{'id': '3ade68b7g74085ea3',\n",
       "   'name': 'Além Do Horizonte',\n",
       "   'url': 'https://www.vagalume.com.br/jota-quest/alem-do-horizonte.html',\n",
       "   'lang': 1,\n",
       "   'text': 'Além do horizonte existe um lugar\\nBonito e tranquilo pra gente se amar\\n\\nAlém do horizonte deve ter\\nAlgum lugar bonito pra viver em paz\\nOnde eu possa encontrar a natureza\\nAlegria e felicidade com certeza\\nLá nesse lugar o amanhecer é lindo\\nCom flores festejando mais um dia que vem vindo\\nOnde a gente pode se deitar no campo\\nSe amar na relva escutando o canto dos pássaros\\n\\nAproveitar a tarde sem pensar na vida\\nAndar despreocupado sem saber a hora de voltar\\nBronzear o corpo todo sem censura\\nGozar a liberdade de uma vida sem frescura\\n\\nMas se você não vem comigo nada disso tem valor\\nDe que vale o paraíso sem o amor \\nSe você não vem comigo tudo isso vai ficar\\nNo horizonte esperando por nós dois\\n\\nAlém do horizonte existe um lugar\\nBonito e tranquilo\\nPra gente se amar\\n\\nMas se você não vem comigo nada disso tem valor\\nDe que vale o paraíso sem amor \\nSe você não vem comigo tudo isso vai ficar\\nNo horizonte esperando por nós dois\\n\\nAlém do horizonte existe um lugar\\nBonito e tranquilo\\nPra gente se amar'}],\n",
       " 'badwords': False}"
      ]
     },
     "execution_count": 26,
     "metadata": {},
     "output_type": "execute_result"
    }
   ],
   "source": [
    "lyrics"
   ]
  },
  {
   "cell_type": "code",
   "execution_count": 31,
   "metadata": {},
   "outputs": [
    {
     "data": {
      "text/plain": [
       "('3ade68b7g74085ea3',\n",
       " 'Além Do Horizonte',\n",
       " 'https://www.vagalume.com.br/jota-quest/alem-do-horizonte.html')"
      ]
     },
     "execution_count": 31,
     "metadata": {},
     "output_type": "execute_result"
    }
   ],
   "source": [
    "lyrics['mus'][0]['id'], lyrics['mus'][0]['name'], lyrics['mus'][0]['url']"
   ]
  },
  {
   "attachments": {},
   "cell_type": "markdown",
   "metadata": {},
   "source": [
    "# STEP: LYRICS (spotify)"
   ]
  },
  {
   "cell_type": "code",
   "execution_count": 5,
   "metadata": {},
   "outputs": [
    {
     "data": {
      "text/plain": [
       "('Me Dê Motivo',\n",
       " '3ade68b7g11fe5ea3',\n",
       " 'https://www.vagalume.com.br/tim-maia/me-de-motivo-2.html',\n",
       " ['É engraçado, ás vezes a gente sente fica pensando',\n",
       "  'Que está sendo amado, que está amando e que',\n",
       "  'Encontrou tudo o que a vida poderia oferecer',\n",
       "  'E em cima disso a gente constrói os nossos sonhos',\n",
       "  'Os nossos castelos e cria um mundo de encanto',\n",
       "  'onde tudo é belo',\n",
       "  'Até que a mulher que a gente ama, vacila e põe tudo a',\n",
       "  'perder',\n",
       "  'E põe tudo a perder...',\n",
       "  'Mê de motivo, para ir embora',\n",
       "  'Estou vendo a hora de te perder',\n",
       "  'Mê de motivo, vai ser agora',\n",
       "  'Estou indo embora o que fazer',\n",
       "  'Estou indo embora não faz sentido',\n",
       "  'Ficar contigo melhor assim',\n",
       "  'E é nessa hora que o homem chora',\n",
       "  'A dor é forte demais pra mim',\n",
       "  'Já que você quis assim, tudo bem',\n",
       "  'Cada um pra o seu lado, a vida é isso mesmo',\n",
       "  'Eu vou procurar e sei que vou encontrar',\n",
       "  'Alguém melhor que você, espero que seja feliz',\n",
       "  'No seu novo caminho, ficar contigo',\n",
       "  'Não faz sentido, melhor assim',\n",
       "  'Mê de motivo, foi jogo sujo',\n",
       "  'E agora eu fujo pra não sofrer',\n",
       "  'Fui teu amigo, te dei o mundo',\n",
       "  'Você foi fundo quis me perder',\n",
       "  'Agora é tarde não tem mais jeito',\n",
       "  'O teu defeito não tem perdão',\n",
       "  'Eu vou a luta, que a vida é curta',\n",
       "  'Não vale a pena sofrer em vão',\n",
       "  'Pode crer você pôs tudo a perder',\n",
       "  'Não podia me fazer o que fez',\n",
       "  'E por mais que voce tente negar, me dê motivo',\n",
       "  'Podes crer eu vou sair por aí',\n",
       "  'E provar que posso ser bem feliz',\n",
       "  'Encontrar alguém que saiba me dar',\n",
       "  'Me dar motivo'])"
      ]
     },
     "execution_count": 5,
     "metadata": {},
     "output_type": "execute_result"
    }
   ],
   "source": [
    "a = {'song_name': 'Me Dê Motivo', 'vagalume_song_id': '3ade68b7g11fe5ea3', 'vagalume_song_url': 'https://www.vagalume.com.br/tim-maia/me-de-motivo-2.html', 'lyrics': ['É engraçado, ás vezes a gente sente fica pensando', 'Que está sendo amado, que está amando e que', 'Encontrou tudo o que a vida poderia oferecer', 'E em cima disso a gente constrói os nossos sonhos', 'Os nossos castelos e cria um mundo de encanto', 'onde tudo é belo', 'Até que a mulher que a gente ama, vacila e põe tudo a', 'perder', 'E põe tudo a perder...', 'Mê de motivo, para ir embora', 'Estou vendo a hora de te perder', 'Mê de motivo, vai ser agora', 'Estou indo embora o que fazer', 'Estou indo embora não faz sentido', 'Ficar contigo melhor assim', 'E é nessa hora que o homem chora', 'A dor é forte demais pra mim', 'Já que você quis assim, tudo bem', 'Cada um pra o seu lado, a vida é isso mesmo', 'Eu vou procurar e sei que vou encontrar', 'Alguém melhor que você, espero que seja feliz', 'No seu novo caminho, ficar contigo', 'Não faz sentido, melhor assim', 'Mê de motivo, foi jogo sujo', 'E agora eu fujo pra não sofrer', 'Fui teu amigo, te dei o mundo', 'Você foi fundo quis me perder', 'Agora é tarde não tem mais jeito', 'O teu defeito não tem perdão', 'Eu vou a luta, que a vida é curta', 'Não vale a pena sofrer em vão', 'Pode crer você pôs tudo a perder', 'Não podia me fazer o que fez', 'E por mais que voce tente negar, me dê motivo', 'Podes crer eu vou sair por aí', 'E provar que posso ser bem feliz', 'Encontrar alguém que saiba me dar', 'Me dar motivo']}\n",
    "tuple(a.values())"
   ]
  },
  {
   "cell_type": "code",
   "execution_count": 10,
   "metadata": {},
   "outputs": [
    {
     "data": {
      "text/plain": [
       "[1,\n",
       " 'Me Dê Motivo',\n",
       " '3ade68b7g11fe5ea3',\n",
       " 'https://www.vagalume.com.br/tim-maia/me-de-motivo-2.html',\n",
       " ['É engraçado, ás vezes a gente sente fica pensando',\n",
       "  'Que está sendo amado, que está amando e que',\n",
       "  'Encontrou tudo o que a vida poderia oferecer',\n",
       "  'E em cima disso a gente constrói os nossos sonhos',\n",
       "  'Os nossos castelos e cria um mundo de encanto',\n",
       "  'onde tudo é belo',\n",
       "  'Até que a mulher que a gente ama, vacila e põe tudo a',\n",
       "  'perder',\n",
       "  'E põe tudo a perder...',\n",
       "  'Mê de motivo, para ir embora',\n",
       "  'Estou vendo a hora de te perder',\n",
       "  'Mê de motivo, vai ser agora',\n",
       "  'Estou indo embora o que fazer',\n",
       "  'Estou indo embora não faz sentido',\n",
       "  'Ficar contigo melhor assim',\n",
       "  'E é nessa hora que o homem chora',\n",
       "  'A dor é forte demais pra mim',\n",
       "  'Já que você quis assim, tudo bem',\n",
       "  'Cada um pra o seu lado, a vida é isso mesmo',\n",
       "  'Eu vou procurar e sei que vou encontrar',\n",
       "  'Alguém melhor que você, espero que seja feliz',\n",
       "  'No seu novo caminho, ficar contigo',\n",
       "  'Não faz sentido, melhor assim',\n",
       "  'Mê de motivo, foi jogo sujo',\n",
       "  'E agora eu fujo pra não sofrer',\n",
       "  'Fui teu amigo, te dei o mundo',\n",
       "  'Você foi fundo quis me perder',\n",
       "  'Agora é tarde não tem mais jeito',\n",
       "  'O teu defeito não tem perdão',\n",
       "  'Eu vou a luta, que a vida é curta',\n",
       "  'Não vale a pena sofrer em vão',\n",
       "  'Pode crer você pôs tudo a perder',\n",
       "  'Não podia me fazer o que fez',\n",
       "  'E por mais que voce tente negar, me dê motivo',\n",
       "  'Podes crer eu vou sair por aí',\n",
       "  'E provar que posso ser bem feliz',\n",
       "  'Encontrar alguém que saiba me dar',\n",
       "  'Me dar motivo']]"
      ]
     },
     "execution_count": 10,
     "metadata": {},
     "output_type": "execute_result"
    }
   ],
   "source": [
    "[1]+list(a.values())"
   ]
  },
  {
   "cell_type": "code",
   "execution_count": 12,
   "metadata": {},
   "outputs": [
    {
     "name": "stdout",
     "output_type": "stream",
     "text": [
      "P\\xe1ginas de amigo\n"
     ]
    },
    {
     "data": {
      "text/plain": [
       "b'P\\\\xe1ginas de amigo'"
      ]
     },
     "execution_count": 12,
     "metadata": {},
     "output_type": "execute_result"
    }
   ],
   "source": [
    "texto = \"Páginas de amigo\"\n",
    "texto_unicode = texto.encode('unicode_escape')\n",
    "\n",
    "print(texto_unicode.decode())\n",
    "texto_unicode"
   ]
  },
  {
   "cell_type": "code",
   "execution_count": 14,
   "metadata": {},
   "outputs": [],
   "source": [
    "import unicodedata\n"
   ]
  },
  {
   "cell_type": "code",
   "execution_count": 6,
   "metadata": {},
   "outputs": [
    {
     "name": "stdout",
     "output_type": "stream",
     "text": [
      "b'My name is St\\xc3\\xa5le'\n"
     ]
    }
   ],
   "source": [
    "txt = \"My name is Ståle\"\n",
    "\n",
    "x = txt.decodew(\"utf-8\")\n",
    "\n",
    "print(x)"
   ]
  },
  {
   "cell_type": "code",
   "execution_count": 4,
   "metadata": {},
   "outputs": [
    {
     "data": {
      "text/plain": [
       "'https://api.vagalume.com.br/search.php?art=Chitaozinho+e+Xororo&mus=P%C3%A1ginas+de+Amigos'"
      ]
     },
     "execution_count": 4,
     "metadata": {},
     "output_type": "execute_result"
    }
   ],
   "source": [
    "url = 'https://api.vagalume.com.br/search.php?art=Chitaozinho+e+Xororo&mus=P%C3%A1ginas+de+Amigos'\n",
    "url.ur"
   ]
  },
  {
   "cell_type": "code",
   "execution_count": 18,
   "metadata": {},
   "outputs": [
    {
     "data": {
      "text/plain": [
       "b'https://api.vagalume.com.br/search.php?art=Chitaozinho+e+Xororo&mus=P%C3%A1ginas+de+Amigos'"
      ]
     },
     "execution_count": 18,
     "metadata": {},
     "output_type": "execute_result"
    }
   ],
   "source": [
    "url = 'https://api.vagalume.com.br/search.php?art=Chitaozinho+e+Xororo&mus=P%C3%A1ginas+de+Amigos'\n",
    "\n",
    "texto = unicodedata.normalize('NFKD', url).encode('ascii', 'ignore')\n",
    "texto"
   ]
  },
  {
   "cell_type": "code",
   "execution_count": 2,
   "metadata": {},
   "outputs": [
    {
     "data": {
      "text/plain": [
       "'Quem um dia irá dizer que existe razão|Nas coisas feitas pelo coração? E quem irá dizer|Que não existe razão?|Eduardo abriu os olhos mas não quis se levantar|Ficou deitado e viu que horas eram|Enquanto Mônica tomava um conhaque|No outro canto da cidade|Como eles disseram|Eduardo e Mônica um dia se encontraram sem querer|E conversaram muito mesmo pra tentar se conhecer|Foi um carinha do cursinho do Eduardo que disse|- Tem uma festa legal e a gente quer se divertir|Festa estranha, com gente esquisita|- Eu não estou legal, não aguento mais birita|E a Mônica riu e quis saber um pouco mais|Sobre o boyzinho que tentava impressionar|E o Eduardo, meio tonto, só pensava em ir pra casa|- É quase duas, eu vou me ferrar|Eduardo e Mônica trocaram telefone|Depois telefonaram e decidiram se encontrar|O Eduardo sugeriu uma lanchonete|Mas a Mônica queria ver o filme do Godard|Se encontraram então no parque da cidade|A Mônica de moto e o Eduardo de camelo|O Eduardo achou estranho e melhor não comentar|Mas a menina tinha tinta no cabelo|Eduardo e Mônica eram nada parecidos|Ela era de Leão e ele tinha dezesseis|Ela fazia Medicina e falava alemão|E ele ainda nas aulinhas de inglês|Ela gostava do Bandeira e do Bauhaus|De Van Gogh e dos Mutantes|Do Caetano e de Rimbaud|E o Eduardo gostava de novela|E jogava futebol-de-botão com seu avô|Ela falava coisas sobre o Planalto Central|Também magia e meditação|E o Eduardo ainda estava|No esquema \"escola, cinema, clube, televisão\"|E, mesmo com tudo diferente|Veio mesmo, de repente|Uma vontade de se ver|E os dois se encontravam todo dia|E a vontade crescia|Como tinha de ser|Eduardo e Mônica fizeram natação, fotografia|Teatro e artesanato e foram viajar|A Mônica explicava pro Eduardo|Coisas sobre o céu, a terra, a água e o ar|Ele aprendeu a beber, deixou o cabelo crescer|E decidiu trabalhar|E ela se formou no mesmo mês|Em que ele passou no vestibular|E os dois comemoraram juntos|E também brigaram juntos, muitas vezes depois|E todo mundo diz que ele completa ela e vice-versa|Que nem feijão com arroz|Construíram uma casa uns dois anos atrás|Mais ou menos quando os gêmeos vieram|Batalharam grana e seguraram legal|A barra mais pesada que tiveram|Eduardo e Mônica voltaram pra Brasília|E a nossa amizade dá saudade no verão|Só que nessas férias não vão viajar|Porque o filhinho do Eduardo|Tá de recuperação|E quem um dia irá dizer que existe razão|Nas coisas feitas pelo coração? E quem irá dizer|Que não existe razão?'"
      ]
     },
     "execution_count": 2,
     "metadata": {},
     "output_type": "execute_result"
    }
   ],
   "source": [
    "a = ['Quem um dia irá dizer que existe razão', 'Nas coisas feitas pelo coração? E quem irá dizer', 'Que não existe razão?', 'Eduardo abriu os olhos mas não quis se levantar', 'Ficou deitado e viu que horas eram', 'Enquanto Mônica tomava um conhaque', 'No outro canto da cidade', 'Como eles disseram', 'Eduardo e Mônica um dia se encontraram sem querer', 'E conversaram muito mesmo pra tentar se conhecer', 'Foi um carinha do cursinho do Eduardo que disse', '- Tem uma festa legal e a gente quer se divertir', 'Festa estranha, com gente esquisita', '- Eu não estou legal, não aguento mais birita', 'E a Mônica riu e quis saber um pouco mais', 'Sobre o boyzinho que tentava impressionar', 'E o Eduardo, meio tonto, só pensava em ir pra casa', '- É quase duas, eu vou me ferrar', 'Eduardo e Mônica trocaram telefone', 'Depois telefonaram e decidiram se encontrar', 'O Eduardo sugeriu uma lanchonete', 'Mas a Mônica queria ver o filme do Godard', 'Se encontraram então no parque da cidade', 'A Mônica de moto e o Eduardo de camelo', 'O Eduardo achou estranho e melhor não comentar', 'Mas a menina tinha tinta no cabelo', 'Eduardo e Mônica eram nada parecidos', 'Ela era de Leão e ele tinha dezesseis', 'Ela fazia Medicina e falava alemão', 'E ele ainda nas aulinhas de inglês', 'Ela gostava do Bandeira e do Bauhaus', 'De Van Gogh e dos Mutantes', 'Do Caetano e de Rimbaud', 'E o Eduardo gostava de novela', 'E jogava futebol-de-botão com seu avô', 'Ela falava coisas sobre o Planalto Central', 'Também magia e meditação', 'E o Eduardo ainda estava', 'No esquema \"escola, cinema, clube, televisão\"', 'E, mesmo com tudo diferente', 'Veio mesmo, de repente', 'Uma vontade de se ver', 'E os dois se encontravam todo dia', 'E a vontade crescia', 'Como tinha de ser', 'Eduardo e Mônica fizeram natação, fotografia', 'Teatro e artesanato e foram viajar', 'A Mônica explicava pro Eduardo', 'Coisas sobre o céu, a terra, a água e o ar', 'Ele aprendeu a beber, deixou o cabelo crescer', 'E decidiu trabalhar', 'E ela se formou no mesmo mês', 'Em que ele passou no vestibular', 'E os dois comemoraram juntos', 'E também brigaram juntos, muitas vezes depois', 'E todo mundo diz que ele completa ela e vice-versa', 'Que nem feijão com arroz', 'Construíram uma casa uns dois anos atrás', 'Mais ou menos quando os gêmeos vieram', 'Batalharam grana e seguraram legal', 'A barra mais pesada que tiveram', 'Eduardo e Mônica voltaram pra Brasília', 'E a nossa amizade dá saudade no verão', 'Só que nessas férias não vão viajar', 'Porque o filhinho do Eduardo', 'Tá de recuperação', 'E quem um dia irá dizer que existe razão', 'Nas coisas feitas pelo coração? E quem irá dizer', 'Que não existe razão?']\n",
    "\"|\".join(a)"
   ]
  },
  {
   "cell_type": "code",
   "execution_count": 1,
   "metadata": {},
   "outputs": [],
   "source": [
    "import pandas as pd"
   ]
  },
  {
   "cell_type": "code",
   "execution_count": 2,
   "metadata": {},
   "outputs": [
    {
     "data": {
      "text/html": [
       "<div>\n",
       "<style scoped>\n",
       "    .dataframe tbody tr th:only-of-type {\n",
       "        vertical-align: middle;\n",
       "    }\n",
       "\n",
       "    .dataframe tbody tr th {\n",
       "        vertical-align: top;\n",
       "    }\n",
       "\n",
       "    .dataframe thead th {\n",
       "        text-align: right;\n",
       "    }\n",
       "</style>\n",
       "<table border=\"1\" class=\"dataframe\">\n",
       "  <thead>\n",
       "    <tr style=\"text-align: right;\">\n",
       "      <th></th>\n",
       "      <th>music_name</th>\n",
       "      <th>artist_name</th>\n",
       "      <th>style_name</th>\n",
       "      <th>status_playlist</th>\n",
       "    </tr>\n",
       "  </thead>\n",
       "  <tbody>\n",
       "    <tr>\n",
       "      <th>0</th>\n",
       "      <td>Me Dê Motivo</td>\n",
       "      <td>Tim Maia</td>\n",
       "      <td>MPB</td>\n",
       "      <td>ok</td>\n",
       "    </tr>\n",
       "    <tr>\n",
       "      <th>1</th>\n",
       "      <td>Gostava Tanto de Você</td>\n",
       "      <td>Tim Maia</td>\n",
       "      <td>MPB</td>\n",
       "      <td>ok</td>\n",
       "    </tr>\n",
       "    <tr>\n",
       "      <th>2</th>\n",
       "      <td>Não quero dinheiro</td>\n",
       "      <td>Tim Maia</td>\n",
       "      <td>MPB</td>\n",
       "      <td>ok</td>\n",
       "    </tr>\n",
       "    <tr>\n",
       "      <th>3</th>\n",
       "      <td>Você</td>\n",
       "      <td>Tim Maia</td>\n",
       "      <td>MPB</td>\n",
       "      <td>ok</td>\n",
       "    </tr>\n",
       "    <tr>\n",
       "      <th>4</th>\n",
       "      <td>Azul da cor do mar</td>\n",
       "      <td>Tim Maia</td>\n",
       "      <td>MPB</td>\n",
       "      <td>ok</td>\n",
       "    </tr>\n",
       "    <tr>\n",
       "      <th>...</th>\n",
       "      <td>...</td>\n",
       "      <td>...</td>\n",
       "      <td>...</td>\n",
       "      <td>...</td>\n",
       "    </tr>\n",
       "    <tr>\n",
       "      <th>75</th>\n",
       "      <td>Asa Branca</td>\n",
       "      <td>Luiz Gonzaga</td>\n",
       "      <td>Forro</td>\n",
       "      <td>ok</td>\n",
       "    </tr>\n",
       "    <tr>\n",
       "      <th>76</th>\n",
       "      <td>Cheia de Manias</td>\n",
       "      <td>Raça Negra</td>\n",
       "      <td>Pagode</td>\n",
       "      <td>ok</td>\n",
       "    </tr>\n",
       "    <tr>\n",
       "      <th>77</th>\n",
       "      <td>Desabafo / Deixa Eu Dizer</td>\n",
       "      <td>Marcelo D2</td>\n",
       "      <td>Samba</td>\n",
       "      <td>ok</td>\n",
       "    </tr>\n",
       "    <tr>\n",
       "      <th>78</th>\n",
       "      <td>Quero Te Encontrar</td>\n",
       "      <td>Claudinho &amp; Buchecha</td>\n",
       "      <td>Funk</td>\n",
       "      <td>ok</td>\n",
       "    </tr>\n",
       "    <tr>\n",
       "      <th>79</th>\n",
       "      <td>Quero Ser Feliz Também</td>\n",
       "      <td>Natiruts</td>\n",
       "      <td>Reggae</td>\n",
       "      <td>ok</td>\n",
       "    </tr>\n",
       "  </tbody>\n",
       "</table>\n",
       "<p>80 rows × 4 columns</p>\n",
       "</div>"
      ],
      "text/plain": [
       "                   music_name           artist_name style_name status_playlist\n",
       "0                Me Dê Motivo              Tim Maia        MPB              ok\n",
       "1       Gostava Tanto de Você              Tim Maia        MPB              ok\n",
       "2          Não quero dinheiro              Tim Maia        MPB              ok\n",
       "3                        Você              Tim Maia        MPB              ok\n",
       "4          Azul da cor do mar              Tim Maia        MPB              ok\n",
       "..                        ...                   ...        ...             ...\n",
       "75                 Asa Branca          Luiz Gonzaga      Forro              ok\n",
       "76            Cheia de Manias            Raça Negra     Pagode              ok\n",
       "77  Desabafo / Deixa Eu Dizer            Marcelo D2      Samba              ok\n",
       "78         Quero Te Encontrar  Claudinho & Buchecha       Funk              ok\n",
       "79     Quero Ser Feliz Também              Natiruts     Reggae              ok\n",
       "\n",
       "[80 rows x 4 columns]"
      ]
     },
     "execution_count": 2,
     "metadata": {},
     "output_type": "execute_result"
    }
   ],
   "source": [
    "pd.read_csv('/home/lucas/AffectiveComputing/data_source/music_list/music_used.csv')"
   ]
  },
  {
   "cell_type": "code",
   "execution_count": 15,
   "metadata": {},
   "outputs": [],
   "source": [
    "client_id = \"ZZhqkzyPtLm2fFOZG8wBRISBkpaxeg21Z09EETB0Y08XRmoNaqtVZtI68KNH_O73\"\n",
    "secret_id = \"veTr_n4cZKUU-HKj2ekRduXHonukbteglV7jx9S92RqaBu8LSXGKXwnPZMcMND0vFDSx8ZMmWjbhlYLySRHhfA\""
   ]
  },
  {
   "cell_type": "code",
   "execution_count": 14,
   "metadata": {},
   "outputs": [
    {
     "name": "stdout",
     "output_type": "stream",
     "text": [
      "https://api.lyrics.ovh/v1/Coldplay/viva+la+vida\n",
      "{'error': 'No lyrics found'}\n",
      "Letras não encontradas.\n"
     ]
    }
   ],
   "source": [
    "import requests\n",
    "\n",
    "def get_lyrics(artist, title):\n",
    "    base_url = \"https://api.lyrics.ovh/v1/\"\n",
    "    url = f\"{base_url}{artist.replace(' ', '+')}/{title.lower()}\"\n",
    "    print(url)\n",
    "    response = requests.get(url)\n",
    "    data = response.json()\n",
    "    print(data)\n",
    "\n",
    "    if 'lyrics' in data:\n",
    "        return data['lyrics']\n",
    "    else:\n",
    "        return \"Letras não encontradas.\"\n",
    "\n",
    "# Exemplo de uso\n",
    "artist = \"Coldplay\"\n",
    "title = \"Viva La Vida\"\n",
    "lyrics = get_lyrics(artist, title.replace(\" \", \"+\"))\n",
    "\n",
    "print(lyrics)\n"
   ]
  }
 ],
 "metadata": {
  "kernelspec": {
   "display_name": "Python 3.10.6 64-bit",
   "language": "python",
   "name": "python3"
  },
  "language_info": {
   "codemirror_mode": {
    "name": "ipython",
    "version": 3
   },
   "file_extension": ".py",
   "mimetype": "text/x-python",
   "name": "python",
   "nbconvert_exporter": "python",
   "pygments_lexer": "ipython3",
   "version": "3.10.6"
  },
  "orig_nbformat": 4,
  "vscode": {
   "interpreter": {
    "hash": "916dbcbb3f70747c44a77c7bcd40155683ae19c65e1c03b4aa3499c5328201f1"
   }
  }
 },
 "nbformat": 4,
 "nbformat_minor": 2
}
