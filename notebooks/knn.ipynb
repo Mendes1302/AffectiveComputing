{
 "cells": [
  {
   "cell_type": "markdown",
   "metadata": {},
   "source": [
    "# IMPORT LIBS"
   ]
  },
  {
   "cell_type": "code",
   "execution_count": 1,
   "metadata": {},
   "outputs": [
    {
     "name": "stderr",
     "output_type": "stream",
     "text": [
      "/usr/local/lib/python3.10/dist-packages/tqdm-4.65.0-py3.10.egg/tqdm/auto.py:21: TqdmWarning: IProgress not found. Please update jupyter and ipywidgets. See https://ipywidgets.readthedocs.io/en/stable/user_install.html\n",
      "  from .autonotebook import tqdm as notebook_tqdm\n",
      "[nltk_data] Downloading package stopwords to /home/lucas/nltk_data...\n",
      "[nltk_data]   Package stopwords is already up-to-date!\n",
      "2024-01-10 18:05:33.256790: I external/local_tsl/tsl/cuda/cudart_stub.cc:31] Could not find cuda drivers on your machine, GPU will not be used.\n",
      "2024-01-10 18:05:33.282528: E external/local_xla/xla/stream_executor/cuda/cuda_dnn.cc:9261] Unable to register cuDNN factory: Attempting to register factory for plugin cuDNN when one has already been registered\n",
      "2024-01-10 18:05:33.282548: E external/local_xla/xla/stream_executor/cuda/cuda_fft.cc:607] Unable to register cuFFT factory: Attempting to register factory for plugin cuFFT when one has already been registered\n",
      "2024-01-10 18:05:33.283206: E external/local_xla/xla/stream_executor/cuda/cuda_blas.cc:1515] Unable to register cuBLAS factory: Attempting to register factory for plugin cuBLAS when one has already been registered\n",
      "2024-01-10 18:05:33.287288: I external/local_tsl/tsl/cuda/cudart_stub.cc:31] Could not find cuda drivers on your machine, GPU will not be used.\n",
      "2024-01-10 18:05:33.287863: I tensorflow/core/platform/cpu_feature_guard.cc:182] This TensorFlow binary is optimized to use available CPU instructions in performance-critical operations.\n",
      "To enable the following instructions: AVX2 FMA, in other operations, rebuild TensorFlow with the appropriate compiler flags.\n",
      "2024-01-10 18:05:33.867144: W tensorflow/compiler/tf2tensorrt/utils/py_utils.cc:38] TF-TRT Warning: Could not find TensorRT\n"
     ]
    }
   ],
   "source": [
    "import sys\n",
    "sys.path.insert(1, \"/home/lucas/AffectiveComputing\")\n",
    "\n",
    "from sklearn.metrics import accuracy_score, classification_report\n",
    "from sklearn.model_selection import train_test_split, GridSearchCV\n",
    "from sklearn.neighbors import KNeighborsClassifier\n",
    "from libs.sqlite_manager import Sqlite as slq3\n",
    "from libs.pre_processing import PreProcessing \n",
    "from transformers import BertTokenizer\n",
    "import matplotlib.pyplot as plt\n",
    "import tensorflow as tf\n",
    "from os import environ\n",
    "from math import sqrt\n",
    "import pandas as pd\n",
    "import numpy as np\n",
    "import warnings\n",
    "warnings.filterwarnings(\"ignore\")\n",
    "\n",
    "\n",
    "model_name = 'neuralmind/bert-base-portuguese-cased'\n",
    "tokenizer = BertTokenizer.from_pretrained(model_name)\n",
    "\n",
    "pp = PreProcessing()"
   ]
  },
  {
   "cell_type": "markdown",
   "metadata": {},
   "source": [
    "# EXEMPLO NO ARTIGO: CARROS E MOTOS"
   ]
  },
  {
   "cell_type": "code",
   "execution_count": 2,
   "metadata": {},
   "outputs": [
    {
     "data": {
      "image/png": "[encoded data removed]",
      "text/plain": [
       "<Figure size 640x480 with 1 Axes>"
      ]
     },
     "metadata": {},
     "output_type": "display_data"
    }
   ],
   "source": [
    "# Geração de dados aleatórios\n",
    "np.random.seed(42)\n",
    "\n",
    "# Grupo Quadrado\n",
    "quadrados = np.random.rand(10, 2) * 0.6\n",
    "\n",
    "# Grupo Triângulo\n",
    "triangulos = 0.8 + np.random.rand(10, 2) * 0.6\n",
    "\n",
    "# Novo ponto (círculo)\n",
    "ponto_teste = 0.4 + np.random.rand(1, 2) * 0.6\n",
    "\n",
    "# Criando rótulos para os grupos\n",
    "rotulos_quadrados = np.zeros(10)\n",
    "rotulos_triangulos = np.ones(10)\n",
    "\n",
    "# Criando o conjunto de treinamento\n",
    "conjunto_treinamento = np.vstack((quadrados, triangulos))\n",
    "rotulos_treinamento = np.hstack((rotulos_quadrados, rotulos_triangulos))\n",
    "\n",
    "# Aplicando KNN\n",
    "knn = KNeighborsClassifier(n_neighbors=3)\n",
    "knn.fit(conjunto_treinamento, rotulos_treinamento)\n",
    "\n",
    "# Obtendo os índices dos três vizinhos mais próximos\n",
    "indices_vizinhos = knn.kneighbors(ponto_teste, n_neighbors=3, return_distance=False)[0]\n",
    "\n",
    "# Classificando o novo ponto\n",
    "grupo_pertencimento = knn.predict(ponto_teste)\n",
    "\n",
    "# Visualizando o gráfico\n",
    "plt.scatter(quadrados[:, 0], quadrados[:, 1], marker='s', label='Carro')\n",
    "plt.scatter(triangulos[:, 0], triangulos[:, 1], marker='^', label='Moto')\n",
    "plt.scatter(ponto_teste[:, 0], ponto_teste[:, 1], marker='o', label='Novo Dado')\n",
    "\n",
    "# Adicionando setas para os três vizinhos mais próximos\n",
    "for indice_vizinho in indices_vizinhos:\n",
    "    vizinho = conjunto_treinamento[indice_vizinho]\n",
    "    plt.arrow(ponto_teste[0, 0], ponto_teste[0, 1], vizinho[0] - ponto_teste[0, 0], vizinho[1] - ponto_teste[0, 1],\n",
    "              head_width=0.01, head_length=0.01, fc='red', ec='red')\n",
    "\n",
    "plt.title(f'Classificação KNN')\n",
    "plt.legend()\n",
    "plt.show()\n"
   ]
  },
  {
   "cell_type": "markdown",
   "metadata": {},
   "source": [
    "## LOAD DATA"
   ]
  },
  {
   "cell_type": "code",
   "execution_count": 2,
   "metadata": {},
   "outputs": [
    {
     "data": {
      "text/plain": [
       "{0: 'admiração',\n",
       " 1: 'diversão',\n",
       " 2: 'raiva',\n",
       " 3: 'aborrecimento',\n",
       " 4: 'provação',\n",
       " 5: 'confusão',\n",
       " 6: 'curiosidade',\n",
       " 7: 'desejo',\n",
       " 8: 'decepção',\n",
       " 9: 'desaprovação',\n",
       " 10: 'nojo',\n",
       " 11: 'vergonha',\n",
       " 12: 'entusiasmo',\n",
       " 13: 'medo',\n",
       " 14: 'gratidão',\n",
       " 15: 'luto',\n",
       " 16: 'alegria',\n",
       " 17: 'amor',\n",
       " 18: 'nervosismo',\n",
       " 19: 'otimismo',\n",
       " 20: 'orgulho',\n",
       " 21: 'alívio',\n",
       " 22: 'remorso',\n",
       " 23: 'tristeza',\n",
       " 24: 'surpresa',\n",
       " 25: 'saudade',\n",
       " 26: 'inveja',\n",
       " 27: 'compaixão'}"
      ]
     },
     "execution_count": 2,
     "metadata": {},
     "output_type": "execute_result"
    }
   ],
   "source": [
    "emotion_name = {0: 'admiração', 1: 'diversão', 2: 'raiva', 3: 'aborrecimento',\n",
    "                4: 'provação', 5: 'confusão', 6: 'curiosidade', 7: 'desejo',\n",
    "                8: 'decepção', 9: 'desaprovação', 10: 'nojo', 11: 'vergonha', \n",
    "                12: 'entusiasmo', 13: 'medo', 14: 'gratidão', 15: 'luto', \n",
    "                16: 'alegria', 17: 'amor', 18: 'nervosismo', 19: 'otimismo',\n",
    "                20: 'orgulho', 21: 'alívio', 22: 'remorso', 23: 'tristeza',  \n",
    "                24: 'surpresa', 25: 'saudade', 26: 'inveja', 27: 'compaixão'}\n",
    "emotion_name"
   ]
  },
  {
   "cell_type": "code",
   "execution_count": 3,
   "metadata": {},
   "outputs": [
    {
     "data": {
      "text/html": [
       "<div>\n",
       "<style scoped>\n",
       "    .dataframe tbody tr th:only-of-type {\n",
       "        vertical-align: middle;\n",
       "    }\n",
       "\n",
       "    .dataframe tbody tr th {\n",
       "        vertical-align: top;\n",
       "    }\n",
       "\n",
       "    .dataframe thead th {\n",
       "        text-align: right;\n",
       "    }\n",
       "</style>\n",
       "<table border=\"1\" class=\"dataframe\">\n",
       "  <thead>\n",
       "    <tr style=\"text-align: right;\">\n",
       "      <th></th>\n",
       "      <th>tweet_id</th>\n",
       "      <th>tweet</th>\n",
       "      <th>categoria</th>\n",
       "    </tr>\n",
       "  </thead>\n",
       "  <tbody>\n",
       "    <tr>\n",
       "      <th>0</th>\n",
       "      <td>1407499359386734594</td>\n",
       "      <td>admiro o povo que tem paciência</td>\n",
       "      <td>0</td>\n",
       "    </tr>\n",
       "    <tr>\n",
       "      <th>1</th>\n",
       "      <td>1407463939517173763</td>\n",
       "      <td>O único jogo que jogo bem é o Guitar Hero. É p...</td>\n",
       "      <td>0</td>\n",
       "    </tr>\n",
       "    <tr>\n",
       "      <th>2</th>\n",
       "      <td>1407523515645956097</td>\n",
       "      <td>Amg eu dei uma olhadinha tá muito incrível 🥺😍😍...</td>\n",
       "      <td>0</td>\n",
       "    </tr>\n",
       "    <tr>\n",
       "      <th>3</th>\n",
       "      <td>1407524564075171842</td>\n",
       "      <td>sexooo</td>\n",
       "      <td>0</td>\n",
       "    </tr>\n",
       "    <tr>\n",
       "      <th>4</th>\n",
       "      <td>1407525154884833281</td>\n",
       "      <td>Sempre foi de direita. Ela não está nem aí par...</td>\n",
       "      <td>0</td>\n",
       "    </tr>\n",
       "    <tr>\n",
       "      <th>...</th>\n",
       "      <td>...</td>\n",
       "      <td>...</td>\n",
       "      <td>...</td>\n",
       "    </tr>\n",
       "    <tr>\n",
       "      <th>13080</th>\n",
       "      <td>1407707182725046276</td>\n",
       "      <td>como não aproveitar #aşktankaçma</td>\n",
       "      <td>27</td>\n",
       "    </tr>\n",
       "    <tr>\n",
       "      <th>13081</th>\n",
       "      <td>1407707358583832586</td>\n",
       "      <td>falta 1 mês pro meu aniversário e eu não aceit...</td>\n",
       "      <td>27</td>\n",
       "    </tr>\n",
       "    <tr>\n",
       "      <th>13082</th>\n",
       "      <td>1407707475697192960</td>\n",
       "      <td>Vai embora do Corinthians não aceitamos racist...</td>\n",
       "      <td>27</td>\n",
       "    </tr>\n",
       "    <tr>\n",
       "      <th>13083</th>\n",
       "      <td>1407707496773468165</td>\n",
       "      <td>neste perfil não aceito críticas à gatos, seje...</td>\n",
       "      <td>27</td>\n",
       "    </tr>\n",
       "    <tr>\n",
       "      <th>13084</th>\n",
       "      <td>1407707803624554497</td>\n",
       "      <td>Esse safado acha que o povo é burro e sem memó...</td>\n",
       "      <td>27</td>\n",
       "    </tr>\n",
       "  </tbody>\n",
       "</table>\n",
       "<p>13085 rows × 3 columns</p>\n",
       "</div>"
      ],
      "text/plain": [
       "                  tweet_id                                              tweet  \\\n",
       "0      1407499359386734594                    admiro o povo que tem paciência   \n",
       "1      1407463939517173763  O único jogo que jogo bem é o Guitar Hero. É p...   \n",
       "2      1407523515645956097  Amg eu dei uma olhadinha tá muito incrível 🥺😍😍...   \n",
       "3      1407524564075171842                                             sexooo   \n",
       "4      1407525154884833281  Sempre foi de direita. Ela não está nem aí par...   \n",
       "...                    ...                                                ...   \n",
       "13080  1407707182725046276                   como não aproveitar #aşktankaçma   \n",
       "13081  1407707358583832586  falta 1 mês pro meu aniversário e eu não aceit...   \n",
       "13082  1407707475697192960  Vai embora do Corinthians não aceitamos racist...   \n",
       "13083  1407707496773468165  neste perfil não aceito críticas à gatos, seje...   \n",
       "13084  1407707803624554497  Esse safado acha que o povo é burro e sem memó...   \n",
       "\n",
       "      categoria  \n",
       "0             0  \n",
       "1             0  \n",
       "2             0  \n",
       "3             0  \n",
       "4             0  \n",
       "...         ...  \n",
       "13080        27  \n",
       "13081        27  \n",
       "13082        27  \n",
       "13083        27  \n",
       "13084        27  \n",
       "\n",
       "[13085 rows x 3 columns]"
      ]
     },
     "execution_count": 3,
     "metadata": {},
     "output_type": "execute_result"
    }
   ],
   "source": [
    "path =  environ['PATH_TEST_DATASET']\n",
    "data = pd.read_csv(path, delimiter='\\t')\n",
    "\n",
    "data"
   ]
  },
  {
   "cell_type": "markdown",
   "metadata": {},
   "source": [
    "# KNN\n"
   ]
  },
  {
   "cell_type": "code",
   "execution_count": 5,
   "metadata": {},
   "outputs": [],
   "source": [
    "def _preprocessing_train(dataframe, column):\n",
    "    dataframe = pp.dropnan_and_lowercase(dataframe, column)\n",
    "    dataframe = pp.change_abbreviations_dataframe(dataframe, column)\n",
    "    dataframe = pp.drop_size(dataframe, column, 3)\n",
    "    dataframe = pp.set_category(dataframe, 'categoria')\n",
    "    dataframe = pp.apply_regex_dataframe(dataframe, column)\n",
    "    dataframe = pp.shuffled_dataframe(dataframe)\n",
    "    dataframe = pp.remove_stopwords_dataframe(dataframe, column)\n",
    "    return dataframe"
   ]
  },
  {
   "cell_type": "code",
   "execution_count": 6,
   "metadata": {},
   "outputs": [
    {
     "name": "stderr",
     "output_type": "stream",
     "text": [
      "2023-12-27 14:17:46.864701: I tensorflow/compiler/xla/stream_executor/cuda/cuda_gpu_executor.cc:996] successful NUMA node read from SysFS had negative value (-1), but there must be at least one NUMA node, so returning NUMA node zero. See more at https://github.com/torvalds/linux/blob/v6.0/Documentation/ABI/testing/sysfs-bus-pci#L344-L355\n",
      "2023-12-27 14:17:46.865256: W tensorflow/core/common_runtime/gpu/gpu_device.cc:1956] Cannot dlopen some GPU libraries. Please make sure the missing libraries mentioned above are installed properly if you would like to use GPU. Follow the guide at https://www.tensorflow.org/install/gpu for how to download and setup the required libraries for your platform.\n",
      "Skipping registering GPU devices...\n"
     ]
    }
   ],
   "source": [
    "data = _preprocessing_train(data, \"tweet\")\n",
    "texts = data.tweet\n",
    "labels = np.array(data.categoria.tolist())\n",
    "\n",
    "texts_train, texts_val, labels_train, labels_val = train_test_split(texts, labels, test_size=0.2, random_state=42)\n",
    "\n",
    "texts_train = texts_train.tolist()\n",
    "\n",
    "inputs_train = tokenizer(texts_train, max_length=64, padding=True, truncation=True, return_tensors='tf')\n",
    "\n",
    "labels_train = tf.convert_to_tensor(labels_train, dtype=tf.int64)\n",
    "\n",
    "inputs_train_ids = inputs_train['input_ids']\n",
    "inputs_train_ids = np.array(inputs_train_ids).astype(int)\n",
    "\n",
    "labels_train_np = labels_train.numpy()\n",
    "\n",
    "texts_val = texts_val.tolist()\n",
    "inputs_val = tokenizer(texts_val, max_length=64, padding=True, truncation=True, return_tensors='tf')\n",
    "inputs_val_ids = np.array(inputs_val['input_ids']).astype(int)"
   ]
  },
  {
   "cell_type": "code",
   "execution_count": 7,
   "metadata": {},
   "outputs": [
    {
     "name": "stdout",
     "output_type": "stream",
     "text": [
      "Melhores valores para os hiperparâmetros: {'metric': 'manhattan', 'n_neighbors': 95, 'p': 1, 'weights': 'distance'}\n",
      "Acurácia com o melhor modelo: 0.15593762495002\n"
     ]
    }
   ],
   "source": [
    "size_sqrt = int(sqrt(len(inputs_train_ids)))\n",
    "param_dist = {\n",
    "    'n_neighbors': np.arange(3, size_sqrt, 2),\n",
    "    'weights': ['uniform', 'distance'],\n",
    "    'p': [1, 2], \n",
    "    'metric': ['manhattan', \"euclidean\", \"cosine\"]\n",
    "}\n",
    "\n",
    "\n",
    "knn_classifier = KNeighborsClassifier()\n",
    "\n",
    "random_search = GridSearchCV(knn_classifier,param_dist, cv=5, scoring='accuracy')\n",
    "\n",
    "random_search.fit(inputs_train_ids, labels_train_np)  \n",
    "\n",
    "best_params = random_search.best_params_\n",
    "\n",
    "best_knn_classifier = random_search.best_estimator_\n",
    "\n",
    "predictions = best_knn_classifier.predict(inputs_val_ids)\n",
    "\n",
    "accuracy = accuracy_score(labels_val, predictions)\n",
    "print(f'Melhores valores para os hiperparâmetros: {best_params}')\n",
    "print(f'Acurácia com o melhor modelo: {accuracy}')\n"
   ]
  },
  {
   "cell_type": "code",
   "execution_count": 8,
   "metadata": {},
   "outputs": [
    {
     "name": "stdout",
     "output_type": "stream",
     "text": [
      "               precision    recall  f1-score   support\n",
      "\n",
      "aborrecimento       1.00      0.05      0.10        57\n",
      "    admiração       0.16      0.12      0.14       129\n",
      "      alegria       0.09      0.02      0.03       111\n",
      "       alívio       0.43      0.05      0.09        59\n",
      "         amor       1.00      0.08      0.14        79\n",
      "    compaixão       0.00      0.00      0.00        49\n",
      "     confusão       0.14      0.55      0.22       279\n",
      "  curiosidade       1.00      0.02      0.03        61\n",
      "     decepção       0.25      0.05      0.08        42\n",
      " desaprovação       0.00      0.00      0.00        32\n",
      "       desejo       0.12      0.23      0.16       200\n",
      "     diversão       0.12      0.16      0.14       203\n",
      "   entusiasmo       0.15      0.03      0.04       120\n",
      "     gratidão       0.00      0.00      0.00         5\n",
      "       inveja       0.18      0.07      0.10        70\n",
      "         luto       0.40      0.06      0.10        72\n",
      "         medo       0.15      0.26      0.19       115\n",
      "   nervosismo       0.27      0.13      0.17        71\n",
      "         nojo       0.00      0.00      0.00        28\n",
      "      orgulho       0.55      0.07      0.13        82\n",
      "     otimismo       0.50      0.07      0.12        44\n",
      "     provação       1.00      0.10      0.19        29\n",
      "        raiva       0.20      0.22      0.21       205\n",
      "      remorso       0.10      0.02      0.03       129\n",
      "      saudade       0.20      0.03      0.05        37\n",
      "     surpresa       0.28      0.12      0.17        56\n",
      "     tristeza       0.56      0.07      0.12        73\n",
      "     vergonha       0.25      0.02      0.03        64\n",
      "\n",
      "     accuracy                           0.16      2501\n",
      "    macro avg       0.32      0.09      0.10      2501\n",
      " weighted avg       0.27      0.16      0.13      2501\n",
      "\n"
     ]
    }
   ],
   "source": [
    "labels_val_names = [emotion_name[label] for label in labels_val]\n",
    "pred_labels_names = [emotion_name[label] for label in predictions]\n",
    "report = classification_report(labels_val_names, pred_labels_names)\n",
    "\n",
    "print(report)"
   ]
  },
  {
   "cell_type": "markdown",
   "metadata": {},
   "source": [
    "# KNN BIGGER"
   ]
  },
  {
   "cell_type": "code",
   "execution_count": 2,
   "metadata": {},
   "outputs": [],
   "source": [
    "path = \"/home/lucas/AffectiveComputing/songs_database.db\"\n",
    "slq3_instance = slq3(database=path)\n",
    "inputs = slq3_instance.get_by_select(query='SELECT * FROM inputs;')\n",
    "emotion_name = slq3_instance.get_by_select(query=\"SELECT name_emotion FROM emotion\")\n",
    "emotion_name = emotion_name.to_dict()[\"name_emotion\"]\n",
    "inputs = pp.shuffled_dataframe(inputs)\n"
   ]
  },
  {
   "cell_type": "code",
   "execution_count": 3,
   "metadata": {},
   "outputs": [
    {
     "name": "stderr",
     "output_type": "stream",
     "text": [
      "2024-01-10 18:05:46.931925: I external/local_xla/xla/stream_executor/cuda/cuda_executor.cc:901] successful NUMA node read from SysFS had negative value (-1), but there must be at least one NUMA node, so returning NUMA node zero. See more at https://github.com/torvalds/linux/blob/v6.0/Documentation/ABI/testing/sysfs-bus-pci#L344-L355\n",
      "2024-01-10 18:05:46.936074: W tensorflow/core/common_runtime/gpu/gpu_device.cc:2256] Cannot dlopen some GPU libraries. Please make sure the missing libraries mentioned above are installed properly if you would like to use GPU. Follow the guide at https://www.tensorflow.org/install/gpu for how to download and setup the required libraries for your platform.\n",
      "Skipping registering GPU devices...\n"
     ]
    }
   ],
   "source": [
    "texts = inputs.text_name\n",
    "labels = np.array(inputs.emotion_id.tolist())\n",
    "texts_train, texts_val, labels_train, labels_val = train_test_split(texts, labels, test_size=0.3, random_state=42)\n",
    "\n",
    "texts_train = texts_train.tolist()\n",
    "\n",
    "inputs_train = tokenizer(texts_train, max_length=64, padding=True, truncation=True, return_tensors='tf')\n",
    "\n",
    "labels_train = tf.convert_to_tensor(labels_train, dtype=tf.int64)\n",
    "\n",
    "inputs_train_ids = inputs_train['input_ids']\n",
    "inputs_train_ids = np.array(inputs_train_ids).astype(int)\n",
    "\n",
    "labels_train_np = labels_train.numpy()\n",
    "\n",
    "texts_val = texts_val.tolist()\n",
    "inputs_val = tokenizer(texts_val, max_length=64, padding=True, truncation=True, return_tensors='tf')\n",
    "inputs_val_ids = np.array(inputs_val['input_ids']).astype(int)"
   ]
  },
  {
   "cell_type": "code",
   "execution_count": 5,
   "metadata": {},
   "outputs": [
    {
     "name": "stdout",
     "output_type": "stream",
     "text": [
      "Melhores valores para os hiperparâmetros: {'metric': 'manhattan', 'n_neighbors': 25, 'p': 1, 'weights': 'distance'}\n",
      "Acurácia com o melhor modelo: 0.21264884295663897\n"
     ]
    }
   ],
   "source": [
    "param_dist = {\n",
    "    'n_neighbors': np.arange(3, 51, 2),\n",
    "    'weights': ['uniform', 'distance'],\n",
    "    'p': [1, 2], \n",
    "    'metric': ['manhattan', \"euclidean\", \"cosine\"]\n",
    "}\n",
    "\n",
    "\n",
    "knn_classifier = KNeighborsClassifier()\n",
    "\n",
    "random_search = GridSearchCV(knn_classifier,param_dist, cv=5, scoring='accuracy')\n",
    "\n",
    "random_search.fit(inputs_train_ids, labels_train_np)  \n",
    "\n",
    "best_params = random_search.best_params_\n",
    "\n",
    "best_knn_classifier = random_search.best_estimator_\n",
    "\n",
    "predictions = best_knn_classifier.predict(inputs_val_ids)\n",
    "\n",
    "accuracy = accuracy_score(labels_val, predictions)\n",
    "print(f'Melhores valores para os hiperparâmetros: {best_params}')\n",
    "print(f'Acurácia com o melhor modelo: {accuracy}')"
   ]
  },
  {
   "cell_type": "code",
   "execution_count": 13,
   "metadata": {},
   "outputs": [
    {
     "name": "stdout",
     "output_type": "stream",
     "text": [
      "               precision    recall  f1-score   support\n",
      "\n",
      "aborrecimento       0.28      0.37      0.32       204\n",
      "    admiração       0.31      0.45      0.37       298\n",
      "      alegria       0.20      0.13      0.16       212\n",
      "       alívio       0.28      0.31      0.29       210\n",
      "         amor       0.08      0.06      0.07       190\n",
      "    compaixão       0.23      0.26      0.24       219\n",
      "     confusão       0.14      0.12      0.13       323\n",
      "  curiosidade       0.22      0.23      0.23       193\n",
      "     decepção       0.11      0.09      0.10       200\n",
      " desaprovação       0.27      0.41      0.33       191\n",
      "       desejo       0.14      0.09      0.11       207\n",
      "     diversão       0.09      0.06      0.07       208\n",
      "   entusiasmo       0.12      0.12      0.12       194\n",
      "     gratidão       0.24      0.41      0.30       201\n",
      "       inveja       0.42      0.49      0.45       226\n",
      "         luto       0.19      0.16      0.17       193\n",
      "         medo       0.18      0.14      0.16       223\n",
      "   nervosismo       0.23      0.17      0.20       199\n",
      "         nojo       0.22      0.23      0.23       217\n",
      "      orgulho       0.27      0.28      0.28       211\n",
      "     otimismo       0.22      0.18      0.20       211\n",
      "     provação       0.22      0.20      0.21       195\n",
      "        raiva       0.15      0.12      0.13       191\n",
      "      remorso       0.23      0.23      0.23       199\n",
      "      saudade       0.20      0.22      0.21       205\n",
      "     surpresa       0.18      0.19      0.18       175\n",
      "     tristeza       0.20      0.19      0.19       223\n",
      "     vergonha       0.24      0.25      0.24       217\n",
      "\n",
      "     accuracy                           0.22      5935\n",
      "    macro avg       0.21      0.22      0.21      5935\n",
      " weighted avg       0.21      0.22      0.21      5935\n",
      "\n"
     ]
    }
   ],
   "source": [
    "labels_val_names = [emotion_name[label] for label in labels_val]\n",
    "pred_labels_names = [emotion_name[label] for label in predictions]\n",
    "report = classification_report(labels_val_names, pred_labels_names)\n",
    "\n",
    "print(report)"
   ]
  },
  {
   "cell_type": "markdown",
   "metadata": {},
   "source": [
    "# SAVE MODEL"
   ]
  },
  {
   "cell_type": "code",
   "execution_count": 6,
   "metadata": {},
   "outputs": [
    {
     "name": "stdout",
     "output_type": "stream",
     "text": [
      "Modelo salvo em: /home/lucas/AffectiveComputing/model/KNN.keras\n"
     ]
    }
   ],
   "source": [
    "import joblib\n",
    "\n",
    "\n",
    "\n",
    "# Caminho para a pasta\n",
    "caminho_pasta = \"/home/lucas/AffectiveComputing/model/\"\n",
    "\n",
    "\n",
    "caminho_modelo = caminho_pasta + \"KNN.keras\"\n",
    "joblib.dump(best_knn_classifier, caminho_modelo)\n",
    "\n",
    "print(f\"Modelo salvo em: {caminho_modelo}\")"
   ]
  },
  {
   "cell_type": "code",
   "execution_count": 7,
   "metadata": {},
   "outputs": [
    {
     "data": {
      "text/html": [
       "<style>#sk-container-id-1 {color: black;background-color: white;}#sk-container-id-1 pre{padding: 0;}#sk-container-id-1 div.sk-toggleable {background-color: white;}#sk-container-id-1 label.sk-toggleable__label {cursor: pointer;display: block;width: 100%;margin-bottom: 0;padding: 0.3em;box-sizing: border-box;text-align: center;}#sk-container-id-1 label.sk-toggleable__label-arrow:before {content: \"▸\";float: left;margin-right: 0.25em;color: #696969;}#sk-container-id-1 label.sk-toggleable__label-arrow:hover:before {color: black;}#sk-container-id-1 div.sk-estimator:hover label.sk-toggleable__label-arrow:before {color: black;}#sk-container-id-1 div.sk-toggleable__content {max-height: 0;max-width: 0;overflow: hidden;text-align: left;background-color: #f0f8ff;}#sk-container-id-1 div.sk-toggleable__content pre {margin: 0.2em;color: black;border-radius: 0.25em;background-color: #f0f8ff;}#sk-container-id-1 input.sk-toggleable__control:checked~div.sk-toggleable__content {max-height: 200px;max-width: 100%;overflow: auto;}#sk-container-id-1 input.sk-toggleable__control:checked~label.sk-toggleable__label-arrow:before {content: \"▾\";}#sk-container-id-1 div.sk-estimator input.sk-toggleable__control:checked~label.sk-toggleable__label {background-color: #d4ebff;}#sk-container-id-1 div.sk-label input.sk-toggleable__control:checked~label.sk-toggleable__label {background-color: #d4ebff;}#sk-container-id-1 input.sk-hidden--visually {border: 0;clip: rect(1px 1px 1px 1px);clip: rect(1px, 1px, 1px, 1px);height: 1px;margin: -1px;overflow: hidden;padding: 0;position: absolute;width: 1px;}#sk-container-id-1 div.sk-estimator {font-family: monospace;background-color: #f0f8ff;border: 1px dotted black;border-radius: 0.25em;box-sizing: border-box;margin-bottom: 0.5em;}#sk-container-id-1 div.sk-estimator:hover {background-color: #d4ebff;}#sk-container-id-1 div.sk-parallel-item::after {content: \"\";width: 100%;border-bottom: 1px solid gray;flex-grow: 1;}#sk-container-id-1 div.sk-label:hover label.sk-toggleable__label {background-color: #d4ebff;}#sk-container-id-1 div.sk-serial::before {content: \"\";position: absolute;border-left: 1px solid gray;box-sizing: border-box;top: 0;bottom: 0;left: 50%;z-index: 0;}#sk-container-id-1 div.sk-serial {display: flex;flex-direction: column;align-items: center;background-color: white;padding-right: 0.2em;padding-left: 0.2em;position: relative;}#sk-container-id-1 div.sk-item {position: relative;z-index: 1;}#sk-container-id-1 div.sk-parallel {display: flex;align-items: stretch;justify-content: center;background-color: white;position: relative;}#sk-container-id-1 div.sk-item::before, #sk-container-id-1 div.sk-parallel-item::before {content: \"\";position: absolute;border-left: 1px solid gray;box-sizing: border-box;top: 0;bottom: 0;left: 50%;z-index: -1;}#sk-container-id-1 div.sk-parallel-item {display: flex;flex-direction: column;z-index: 1;position: relative;background-color: white;}#sk-container-id-1 div.sk-parallel-item:first-child::after {align-self: flex-end;width: 50%;}#sk-container-id-1 div.sk-parallel-item:last-child::after {align-self: flex-start;width: 50%;}#sk-container-id-1 div.sk-parallel-item:only-child::after {width: 0;}#sk-container-id-1 div.sk-dashed-wrapped {border: 1px dashed gray;margin: 0 0.4em 0.5em 0.4em;box-sizing: border-box;padding-bottom: 0.4em;background-color: white;}#sk-container-id-1 div.sk-label label {font-family: monospace;font-weight: bold;display: inline-block;line-height: 1.2em;}#sk-container-id-1 div.sk-label-container {text-align: center;}#sk-container-id-1 div.sk-container {/* jupyter's `normalize.less` sets `[hidden] { display: none; }` but bootstrap.min.css set `[hidden] { display: none !important; }` so we also need the `!important` here to be able to override the default hidden behavior on the sphinx rendered scikit-learn.org. See: https://github.com/scikit-learn/scikit-learn/issues/21755 */display: inline-block !important;position: relative;}#sk-container-id-1 div.sk-text-repr-fallback {display: none;}</style><div id=\"sk-container-id-1\" class=\"sk-top-container\"><div class=\"sk-text-repr-fallback\"><pre>KNeighborsClassifier(metric=&#x27;manhattan&#x27;, n_neighbors=25, p=1,\n",
       "                     weights=&#x27;distance&#x27;)</pre><b>In a Jupyter environment, please rerun this cell to show the HTML representation or trust the notebook. <br />On GitHub, the HTML representation is unable to render, please try loading this page with nbviewer.org.</b></div><div class=\"sk-container\" hidden><div class=\"sk-item\"><div class=\"sk-estimator sk-toggleable\"><input class=\"sk-toggleable__control sk-hidden--visually\" id=\"sk-estimator-id-1\" type=\"checkbox\" checked><label for=\"sk-estimator-id-1\" class=\"sk-toggleable__label sk-toggleable__label-arrow\">KNeighborsClassifier</label><div class=\"sk-toggleable__content\"><pre>KNeighborsClassifier(metric=&#x27;manhattan&#x27;, n_neighbors=25, p=1,\n",
       "                     weights=&#x27;distance&#x27;)</pre></div></div></div></div></div>"
      ],
      "text/plain": [
       "KNeighborsClassifier(metric='manhattan', n_neighbors=25, p=1,\n",
       "                     weights='distance')"
      ]
     },
     "execution_count": 7,
     "metadata": {},
     "output_type": "execute_result"
    }
   ],
   "source": [
    "model_load = joblib.load(caminho_modelo)\n",
    "model_load"
   ]
  }
 ],
 "metadata": {
  "kernelspec": {
   "display_name": "Python 3",
   "language": "python",
   "name": "python3"
  },
  "language_info": {
   "codemirror_mode": {
    "name": "ipython",
    "version": 3
   },
   "file_extension": ".py",
   "mimetype": "text/x-python",
   "name": "python",
   "nbconvert_exporter": "python",
   "pygments_lexer": "ipython3",
   "version": "3.10.12"
  }
 },
 "nbformat": 4,
 "nbformat_minor": 2
}
